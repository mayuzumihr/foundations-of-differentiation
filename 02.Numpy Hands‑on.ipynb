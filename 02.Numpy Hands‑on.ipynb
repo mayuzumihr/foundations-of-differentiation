{
 "cells": [
  {
   "cell_type": "markdown",
   "metadata": {},
   "source": [
    "# Numpy\n",
    "\n",
    "以下の設問に回答し、Google Classroom で提出してください。なお、提出の際はファイル名を以下のように変更すること\n",
    "\n",
    "■ ファイル名\n",
    "- 学籍番号_氏名_Math_Ex13.ipynb"
   ]
  },
  {
   "cell_type": "code",
   "execution_count": 1,
   "metadata": {},
   "outputs": [],
   "source": [
    "import numpy as np"
   ]
  },
  {
   "cell_type": "markdown",
   "metadata": {},
   "source": [
    "Ex.01：以下のプログラムを作成してください\n",
    "\n",
    "1. Numpy の ndarray 型で ベクトル $\\begin{bmatrix} 10 & 20 & 30 \\end{bmatrix}$ のデータを変数 x として作成する\n",
    "1. 変数 x の内容を出力する\n",
    "1. 変数 x のデータ型を出力する\n",
    "1. 変数 x の次元数を出力する\n",
    "1. 変数 x の行列の構造を出力する"
   ]
  },
  {
   "cell_type": "code",
   "execution_count": 2,
   "metadata": {},
   "outputs": [
    {
     "name": "stdout",
     "output_type": "stream",
     "text": [
      "[10 20 30]\n",
      "int32\n",
      "1\n",
      "(3,)\n"
     ]
    }
   ],
   "source": [
    "x = np.array([10, 20, 30])\n",
    "print(x)            # 内容の表示\n",
    "print(x.dtype)      # データ型の表示\n",
    "print(x.ndim)       # 次元数の表示\n",
    "print(x.shape)      # 行列の構造を表示"
   ]
  },
  {
   "cell_type": "markdown",
   "metadata": {},
   "source": [
    "Ex.02：以下のプログラムを作成してください\n",
    "\n",
    "1. Numpy の ndarray 型で 行列 $\\begin{bmatrix}\n",
    "10 & 20 & 30 \\\\\n",
    "40 & 50 & 60 \\\\\n",
    "\\end{bmatrix}$ のデータを変数 x として作成する\n",
    "1. 変数 x の内容を出力する\n",
    "1. 変数 x のデータ型を出力する\n",
    "1. 変数 x の次元数を出力する\n",
    "1. 変数 x の行列の構造を出力する"
   ]
  },
  {
   "cell_type": "code",
   "execution_count": 3,
   "metadata": {},
   "outputs": [
    {
     "name": "stdout",
     "output_type": "stream",
     "text": [
      "[[10 20 30]\n",
      " [40 50 60]]\n",
      "int32\n",
      "2\n",
      "(2, 3)\n"
     ]
    }
   ],
   "source": [
    "x = np.array([\n",
    "    [10, 20, 30],\n",
    "    [40, 50, 60]\n",
    "  ])\n",
    "print(x)            # 内容の表示\n",
    "print(x.dtype)      # データ型の表示\n",
    "print(x.ndim)       # 次元数の表示\n",
    "print(x.shape)      # 行列の構造を表示"
   ]
  },
  {
   "cell_type": "markdown",
   "metadata": {},
   "source": [
    "Ex.03：以下のプログラムを作成してください\n",
    "\n",
    "1. 行列の構造が (1, 2, 3) となるような 3 次元のテンソルを変数 x として作成する。なお、データの内容は問わない\n",
    "1. 変数 x の内容を出力する\n",
    "1. 変数 x のデータ型を出力する\n",
    "1. 変数 x の次元数を出力する\n",
    "1. 変数 x の行列の構造を出力する"
   ]
  },
  {
   "cell_type": "code",
   "execution_count": 4,
   "metadata": {},
   "outputs": [
    {
     "name": "stdout",
     "output_type": "stream",
     "text": [
      "[[[11 12 13]\n",
      "  [21 22 23]]]\n",
      "int32\n",
      "3\n",
      "(1, 2, 3)\n"
     ]
    }
   ],
   "source": [
    "x = np.array([\n",
    "    [\n",
    "      [11, 12, 13], \n",
    "      [21, 22, 23]\n",
    "    ]\n",
    "  ])\n",
    "print(x)            # 内容の表示\n",
    "print(x.dtype)      # データ型の表示\n",
    "print(x.ndim)       # 次元数の表示\n",
    "print(x.shape)      # 行列の構造を表示"
   ]
  },
  {
   "cell_type": "markdown",
   "metadata": {},
   "source": [
    "Ex.04：以下のプログラムを作成してください\n",
    "\n",
    "1. 行列の構造が (1, 2, 3) となるような 3 次元のテンソルを変数 x として作成する。なお、データの内容は問わない\n",
    "1. x の内容を転置し、再度 x に代入する\n",
    "1. 変数 x の内容を出力する\n",
    "1. 変数 x のデータ型を出力する\n",
    "1. 変数 x の次元数を出力する\n",
    "1. 変数 x の行列の構造を出力する"
   ]
  },
  {
   "cell_type": "code",
   "execution_count": 5,
   "metadata": {},
   "outputs": [
    {
     "name": "stdout",
     "output_type": "stream",
     "text": [
      "[[[11]\n",
      "  [21]]\n",
      "\n",
      " [[12]\n",
      "  [22]]\n",
      "\n",
      " [[13]\n",
      "  [23]]]\n",
      "int32\n",
      "3\n",
      "(3, 2, 1)\n"
     ]
    }
   ],
   "source": [
    "x = np.array([\n",
    "    [\n",
    "      [11, 12, 13], \n",
    "      [21, 22, 23]\n",
    "    ]\n",
    "  ])\n",
    "x = x.T\n",
    "\n",
    "print(x)            # 内容の表示\n",
    "print(x.dtype)      # データ型の表示\n",
    "print(x.ndim)       # 次元数の表示\n",
    "print(x.shape)      # 行列の構造を表示"
   ]
  },
  {
   "cell_type": "markdown",
   "metadata": {},
   "source": [
    "Ex.05：以下のプログラムを作成してください\n",
    "\n",
    "1. Numpy の ndarray 型で ベクトル $\\begin{bmatrix} 10 & 20 & 30 \\end{bmatrix}$ のデータを変数 x1 として作成する\n",
    "1. Numpy の ndarray 型で ベクトル $\\begin{bmatrix} 40 & 50 & 60 \\end{bmatrix}$ のデータを変数 x2 として作成する\n",
    "1. 変数 x1 と x2 を加算し、Numpy の ndarray 型の変数 y に代入する\n",
    "1. 変数 y の内容を出力する\n",
    "1. 変数 y のデータ型を出力する\n",
    "1. 変数 y の次元数を出力する\n",
    "1. 変数 y の行列の構造を出力する"
   ]
  },
  {
   "cell_type": "code",
   "execution_count": 6,
   "metadata": {},
   "outputs": [
    {
     "name": "stdout",
     "output_type": "stream",
     "text": [
      "[50 70 90]\n",
      "int32\n",
      "1\n",
      "(3,)\n"
     ]
    }
   ],
   "source": [
    "x1 = np.array([10, 20, 30])\n",
    "x2 = np.array([40, 50, 60])\n",
    "y = np.array(x1 + x2)\n",
    "\n",
    "print(y)            # 内容の表示\n",
    "print(y.dtype)      # データ型の表示\n",
    "print(y.ndim)       # 次元数の表示\n",
    "print(y.shape)      # 行列の構造を表示"
   ]
  },
  {
   "cell_type": "markdown",
   "metadata": {},
   "source": [
    "Ex.06：以下のプログラムを作成してください\n",
    "\n",
    "1. Numpy の ndarray 型で 行列 $\\begin{bmatrix}\n",
    "11 & 12 \\\\\n",
    "21 & 22 \\\\\n",
    "\\end{bmatrix}$ のデータを変数 x として作成する\n",
    "1. x の要素を 10 倍し、変数 y に格納する\n",
    "1. 変数 y の内容を出力する\n",
    "1. 変数 y のデータ型を出力する\n",
    "1. 変数 y の次元数を出力する\n",
    "1. 変数 y の行列の構造を出力する"
   ]
  },
  {
   "cell_type": "code",
   "execution_count": 7,
   "metadata": {},
   "outputs": [
    {
     "name": "stdout",
     "output_type": "stream",
     "text": [
      "[[110 120]\n",
      " [210 220]]\n",
      "int32\n",
      "2\n",
      "(2, 2)\n"
     ]
    }
   ],
   "source": [
    "x = np.array([\n",
    "    [11, 12],\n",
    "    [21, 22]\n",
    "  ])\n",
    "y = x * 10\n",
    "\n",
    "print(y)            # 内容の表示\n",
    "print(y.dtype)      # データ型の表示\n",
    "print(y.ndim)       # 次元数の表示\n",
    "print(y.shape)      # 行列の構造を表示"
   ]
  },
  {
   "cell_type": "markdown",
   "metadata": {},
   "source": [
    "Ex.07：以下のプログラムを作成してください\n",
    "\n",
    "1. Numpy の ndarray 型で ベクトル $\\begin{bmatrix} 10 & 20 & 30 \\end{bmatrix}$ のデータを変数 x1 として作成する\n",
    "2. Numpy の ndarray 型で ベクトル $\\begin{bmatrix} 40 & 50 & 60 \\end{bmatrix}$ のデータを変数 x2 として作成する\n",
    "3. 変数 x1 と x2 内積を計算し Numpy の ndarray 型の変数 y に代入する\n",
    "4. 変数 y の内容を出力する\n",
    "5. 変数 y のデータ型を出力する\n",
    "6. 変数 y の次元数を出力する\n",
    "7. 変数 y の行列の構造を出力する"
   ]
  },
  {
   "cell_type": "code",
   "execution_count": 8,
   "metadata": {},
   "outputs": [
    {
     "name": "stdout",
     "output_type": "stream",
     "text": [
      "3200\n",
      "int32\n",
      "0\n",
      "()\n"
     ]
    }
   ],
   "source": [
    "x1 = np.array([10, 20, 30])\n",
    "x2 = np.array([40, 50, 60])\n",
    "y = np.array(x1 @ x2)\n",
    "# y = x1.dot(x2)\n",
    "\n",
    "print(y)            # 内容の表示\n",
    "print(y.dtype)      # データ型の表示\n",
    "print(y.ndim)       # 次元数の表示\n",
    "print(y.shape)      # 行列の構造を表示"
   ]
  },
  {
   "cell_type": "markdown",
   "metadata": {},
   "source": [
    "Ex.08：以下のプログラムを作成してください\n",
    "\n",
    "1. 以下の条件の乱数を変数 x として作成する\n",
    "- 0 ～ 1 までの一様分布を持つ\n",
    "- 2 x 3 x 5 の行列のから成る\n",
    "- seed は 1 とする\n",
    "2. 変数 x の内容を出力する"
   ]
  },
  {
   "cell_type": "code",
   "execution_count": 9,
   "metadata": {},
   "outputs": [
    {
     "name": "stdout",
     "output_type": "stream",
     "text": [
      "[[[4.17022005e-01 7.20324493e-01 1.14374817e-04 3.02332573e-01\n",
      "   1.46755891e-01]\n",
      "  [9.23385948e-02 1.86260211e-01 3.45560727e-01 3.96767474e-01\n",
      "   5.38816734e-01]\n",
      "  [4.19194514e-01 6.85219500e-01 2.04452250e-01 8.78117436e-01\n",
      "   2.73875932e-02]]\n",
      "\n",
      " [[6.70467510e-01 4.17304802e-01 5.58689828e-01 1.40386939e-01\n",
      "   1.98101489e-01]\n",
      "  [8.00744569e-01 9.68261576e-01 3.13424178e-01 6.92322616e-01\n",
      "   8.76389152e-01]\n",
      "  [8.94606664e-01 8.50442114e-02 3.90547832e-02 1.69830420e-01\n",
      "   8.78142503e-01]]]\n"
     ]
    }
   ],
   "source": [
    "np.random.seed(seed=1)\n",
    "x = np.random.rand(2, 3, 5)     # 2 x 3 x 5 の行列の生成\n",
    "print(x)"
   ]
  },
  {
   "cell_type": "markdown",
   "metadata": {},
   "source": [
    "Ex.09：以下のプログラムを作成してください\n",
    "\n",
    "1. 以下の条件の連続値を変数 x として作成する\n",
    "- 値は 0 ～ 180 とする\n",
    "- 値の間隔は 10 とする\n",
    "- 要素数は 19 個とする\n",
    "- arange 関数を使用する\n",
    "2. 変数 x の内容を出力する"
   ]
  },
  {
   "cell_type": "code",
   "execution_count": 10,
   "metadata": {},
   "outputs": [
    {
     "name": "stdout",
     "output_type": "stream",
     "text": [
      "[  0  10  20  30  40  50  60  70  80  90 100 110 120 130 140 150 160 170\n",
      " 180]\n"
     ]
    }
   ],
   "source": [
    "x = np.arange(0, 181, 10)\n",
    "print(x)"
   ]
  },
  {
   "cell_type": "markdown",
   "metadata": {},
   "source": [
    "Ex.10：以下のプログラムを作成してください\n",
    "\n",
    "1. 以下の条件の連続値を変数 x として作成する\n",
    "- 値は 0 ～ 180 とする\n",
    "- 値の間隔は 10 とする\n",
    "- 要素数は 19 個とする\n",
    "- linspace 関数を使用する\n",
    "2. 変数 x の内容を出力する"
   ]
  },
  {
   "cell_type": "code",
   "execution_count": 11,
   "metadata": {},
   "outputs": [
    {
     "name": "stdout",
     "output_type": "stream",
     "text": [
      "[  0.  10.  20.  30.  40.  50.  60.  70.  80.  90. 100. 110. 120. 130.\n",
      " 140. 150. 160. 170. 180.]\n"
     ]
    }
   ],
   "source": [
    "x = np.linspace(0, 180, 19)\n",
    "print(x)"
   ]
  }
 ],
 "metadata": {
  "kernelspec": {
   "display_name": "Python 3",
   "language": "python",
   "name": "python3"
  },
  "language_info": {
   "codemirror_mode": {
    "name": "ipython",
    "version": 3
   },
   "file_extension": ".py",
   "mimetype": "text/x-python",
   "name": "python",
   "nbconvert_exporter": "python",
   "pygments_lexer": "ipython3",
   "version": "3.11.9"
  }
 },
 "nbformat": 4,
 "nbformat_minor": 2
}
